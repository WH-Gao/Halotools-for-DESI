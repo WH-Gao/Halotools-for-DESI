{
 "cells": [
  {
   "cell_type": "code",
   "execution_count": 1,
   "id": "128f771b-7048-47e9-aab7-8b360f40d9a9",
   "metadata": {
    "execution": {
     "iopub.execute_input": "2025-02-20T02:42:41.226322Z",
     "iopub.status.busy": "2025-02-20T02:42:41.225876Z",
     "iopub.status.idle": "2025-02-20T02:42:41.897662Z",
     "shell.execute_reply": "2025-02-20T02:42:41.897041Z",
     "shell.execute_reply.started": "2025-02-20T02:42:41.226234Z"
    },
    "tags": []
   },
   "outputs": [],
   "source": [
    "import numpy as np"
   ]
  },
  {
   "cell_type": "code",
   "execution_count": 27,
   "id": "1800e5e3-c0a2-4306-b2ae-5722cf929ee5",
   "metadata": {
    "execution": {
     "iopub.execute_input": "2025-02-20T03:03:09.366087Z",
     "iopub.status.busy": "2025-02-20T03:03:09.365701Z",
     "iopub.status.idle": "2025-02-20T03:03:09.371057Z",
     "shell.execute_reply": "2025-02-20T03:03:09.370511Z",
     "shell.execute_reply.started": "2025-02-20T03:03:09.366062Z"
    }
   },
   "outputs": [],
   "source": [
    "def match(a,b):\n",
    "    sorted_indices = np.argsort(a)\n",
    "    sorted_halo = a[sorted_indices]\n",
    "\n",
    "    positions_in_sorted = np.searchsorted(sorted_halo, b)\n",
    "    positions = sorted_indices[positions_in_sorted]\n",
    "    \n",
    "    return positions\n",
    "def generate_points_on_unit_sphere(num_points):\n",
    "    theta = np.random.uniform(0, 2 * np.pi, num_points)\n",
    "    phi = np.random.uniform(0, np.pi, num_points)\n",
    "\n",
    "    x = np.sin(phi) * np.cos(theta)\n",
    "    y = np.sin(phi) * np.sin(theta)\n",
    "    z = np.cos(phi)\n",
    "\n",
    "    return x, y, z"
   ]
  },
  {
   "cell_type": "markdown",
   "id": "bee1e7db-1e9a-4c9c-b5cb-90a48e3258d0",
   "metadata": {},
   "source": [
    "## For Aemulus_nu"
   ]
  },
  {
   "cell_type": "code",
   "execution_count": 12,
   "id": "6e629388-481c-4fea-9ef4-d962c8dc2c2a",
   "metadata": {
    "execution": {
     "iopub.execute_input": "2025-02-20T02:48:34.212460Z",
     "iopub.status.busy": "2025-02-20T02:48:34.212232Z",
     "iopub.status.idle": "2025-02-20T02:48:34.247084Z",
     "shell.execute_reply": "2025-02-20T02:48:34.246242Z",
     "shell.execute_reply.started": "2025-02-20T02:48:34.212441Z"
    },
    "tags": []
   },
   "outputs": [],
   "source": [
    "from halotools.sim_manager import CachedHaloCatalog\n",
    "halocat = CachedHaloCatalog(fname='/home/wenhao/Halotools/HDF5/out_10/Aemulus_nu_0.hdf5',ptcl_version_name='rockstar_v1.53_no_cuts')"
   ]
  },
  {
   "cell_type": "code",
   "execution_count": 14,
   "id": "23a95a14-0563-4ceb-b363-0dea38028872",
   "metadata": {
    "execution": {
     "iopub.execute_input": "2025-02-20T02:49:37.492803Z",
     "iopub.status.busy": "2025-02-20T02:49:37.492507Z",
     "iopub.status.idle": "2025-02-20T02:49:37.816289Z",
     "shell.execute_reply": "2025-02-20T02:49:37.813607Z",
     "shell.execute_reply.started": "2025-02-20T02:49:37.492781Z"
    },
    "tags": []
   },
   "outputs": [],
   "source": [
    "halocat.halo_table['halo_vrms']=(4.499*10**(-48))**0.5*(halocat.halo_table['halo_m200m']/halocat.halo_table['halo_r200m'])**0.5/(2**0.5)*3.09*10**19*(1+halocat.redshift)**0.5# Calculate 'halo_vrms' using Virial theorem."
   ]
  },
  {
   "cell_type": "code",
   "execution_count": 16,
   "id": "724f136c-c16f-4801-9fc7-2100b82c3065",
   "metadata": {
    "execution": {
     "iopub.execute_input": "2025-02-20T02:53:41.225836Z",
     "iopub.status.busy": "2025-02-20T02:53:41.225319Z",
     "iopub.status.idle": "2025-02-20T02:53:44.092949Z",
     "shell.execute_reply": "2025-02-20T02:53:44.092008Z",
     "shell.execute_reply.started": "2025-02-20T02:53:41.225810Z"
    }
   },
   "outputs": [],
   "source": [
    "from halotools.empirical_models import NFWPhaseSpace\n",
    "nfw = NFWPhaseSpace(redshift=0.5375,prim_haloprop_key='halo_m200m',conc_mass_model='dutton_maccio14',mdef='200m')\n",
    "halocat.halo_table['halo_nfw_conc']=nfw.conc_NFWmodel(table=halocat.halo_table)# Calculate concentration using dutton_maccio14 model providen by Halotools."
   ]
  },
  {
   "cell_type": "code",
   "execution_count": 29,
   "id": "18e780eb-6846-4abb-acf1-7c57223a1fba",
   "metadata": {
    "execution": {
     "iopub.execute_input": "2025-02-20T03:03:58.402588Z",
     "iopub.status.busy": "2025-02-20T03:03:58.402216Z",
     "iopub.status.idle": "2025-02-20T03:03:58.406981Z",
     "shell.execute_reply": "2025-02-20T03:03:58.406444Z",
     "shell.execute_reply.started": "2025-02-20T03:03:58.402563Z"
    },
    "tags": []
   },
   "outputs": [],
   "source": [
    "f_Gamma = 0.5+0.5*0.5\n",
    "log_M_min = 12.5+1.5*0.5\n",
    "sigma_log_M = 0.1+0.9*0.5\n",
    "mcut = 10+3.5*0.5\n",
    "msat = 13.5+1.5*0.5\n",
    "alphasat = 0.2+1.8*0.5\n",
    "eta_con = 0.2+1.8*0.5\n",
    "etavc = 0.0+0.7*0.5\n",
    "etavs = 0.2+1.8*0.5\n",
    "fenv = -0.3+0.6*0.5\n",
    "deltaenv = 0.5+1.5*0.5\n",
    "sigmaenv = 0.1+0.9*0.5\n",
    "gammaf = 0.5+1.0*0.5"
   ]
  },
  {
   "cell_type": "code",
   "execution_count": 24,
   "id": "2829570a-d57d-42cc-8550-7c511a444db6",
   "metadata": {
    "execution": {
     "iopub.execute_input": "2025-02-20T03:01:38.781166Z",
     "iopub.status.busy": "2025-02-20T03:01:38.780693Z",
     "iopub.status.idle": "2025-02-20T03:01:38.806749Z",
     "shell.execute_reply": "2025-02-20T03:01:38.806004Z",
     "shell.execute_reply.started": "2025-02-20T03:01:38.781135Z"
    },
    "tags": []
   },
   "outputs": [],
   "source": [
    "from model import fiducial_model\n",
    "\n",
    "from halotools.empirical_models import TrivialPhaseSpace\n",
    "cens_occ_model = fiducial_model.Zcens(prim_haloprop_key='halo_m200m')\n",
    "cens_occ_model.param_dict['f_Gamma']=f_Gamma\n",
    "cens_occ_model.param_dict['logMmin']=log_M_min\n",
    "cens_occ_model.param_dict['sigma_logM']=sigma_log_M\n",
    "cens_occ_model.param_dict['fenv']=fenv\n",
    "cens_occ_model.param_dict['deltaenv']=deltaenv\n",
    "cens_occ_model.param_dict['sigmaenv']=sigmaenv\n",
    "cens_prof_model = TrivialPhaseSpace(redshift=0.5375,mdef='200m',prim_haloprop_key='halo_m200m')\n",
    "\n",
    "from halotools.empirical_models import BiasedNFWPhaseSpace\n",
    "sats_occ_model = fiducial_model.ZSats(cenocc_model=cens_occ_model,prim_haloprop_key='halo_m200m')\n",
    "sats_occ_model.param_dict['mcut']=mcut\n",
    "sats_occ_model.param_dict['msat']=msat\n",
    "sats_occ_model.param_dict['alphasat']=alphasat\n",
    "sats_prof_model = BiasedNFWPhaseSpace(redshift=0.5375,prim_haloprop_key='halo_m200m',conc_mass_model='direct_from_halo_catalog',mdef='200m',halo_boundary_key='halo_r200m',concentration_key='halo_nfw_conc')\n",
    "#sats_prof_model.param_dict['conc_gal_bias'] = eta_con \n",
    "halocat.halo_table['halo_nfw_conc']*=eta_con# If we use Biased NFW model providen by Halotools, there may be error when eta_con<1, hence I just multiply halo concentration with eta_con."
   ]
  },
  {
   "cell_type": "code",
   "execution_count": 25,
   "id": "b1c24de7-b7dd-4379-b60d-477651ad97b3",
   "metadata": {
    "execution": {
     "iopub.execute_input": "2025-02-20T03:01:39.812577Z",
     "iopub.status.busy": "2025-02-20T03:01:39.812176Z",
     "iopub.status.idle": "2025-02-20T03:02:15.316664Z",
     "shell.execute_reply": "2025-02-20T03:02:15.315393Z",
     "shell.execute_reply.started": "2025-02-20T03:01:39.812553Z"
    },
    "tags": []
   },
   "outputs": [],
   "source": [
    "from halotools.empirical_models import HodModelFactory\n",
    "model_instance = HodModelFactory(centrals_occupation = cens_occ_model, centrals_profile = cens_prof_model, satellites_occupation = sats_occ_model, satellites_profile = sats_prof_model)\n",
    "model_instance.populate_mock(halocat,Num_ptcl_requirement=0)"
   ]
  },
  {
   "cell_type": "code",
   "execution_count": 30,
   "id": "16f69127-ad02-465d-8507-297c617494a2",
   "metadata": {
    "execution": {
     "iopub.execute_input": "2025-02-20T03:04:01.244792Z",
     "iopub.status.busy": "2025-02-20T03:04:01.244412Z",
     "iopub.status.idle": "2025-02-20T03:04:02.074735Z",
     "shell.execute_reply": "2025-02-20T03:04:02.074062Z",
     "shell.execute_reply.started": "2025-02-20T03:04:01.244765Z"
    },
    "tags": []
   },
   "outputs": [],
   "source": [
    "model_instance.mock.galaxy_table['sigmav']=halocat.halo_table['halo_vrms'][match(halocat.halo_table['halo_id'],model_instance.mock.galaxy_table['halo_id'])]\n",
    "\n",
    "model_instance.mock.galaxy_table['vx']=model_instance.mock.galaxy_table['halo_vx']*gammaf\n",
    "model_instance.mock.galaxy_table['vy']=model_instance.mock.galaxy_table['halo_vy']*gammaf\n",
    "model_instance.mock.galaxy_table['vz']=model_instance.mock.galaxy_table['halo_vz']*gammaf\n",
    "\n",
    "galtype=model_instance.mock.galaxy_table['gal_type']\n",
    "sigmav=model_instance.mock.galaxy_table['sigmav']\n",
    "\n",
    "xyz_vc=generate_points_on_unit_sphere(len(sigmav[np.where(galtype=='centrals')]))\n",
    "\n",
    "rand_vc=np.random.normal(np.zeros(len(sigmav[np.where(galtype=='centrals')])),etavc*sigmav[np.where(galtype=='centrals')])\n",
    "model_instance.mock.galaxy_table['vx'][np.where(galtype=='centrals')]+=rand_vc*xyz_vc[0]\n",
    "model_instance.mock.galaxy_table['vy'][np.where(galtype=='centrals')]+=rand_vc*xyz_vc[1]\n",
    "model_instance.mock.galaxy_table['vz'][np.where(galtype=='centrals')]+=rand_vc*xyz_vc[2]\n",
    "\n",
    "xyz_vs=generate_points_on_unit_sphere(len(sigmav[np.where(galtype=='satellites')]))\n",
    "\n",
    "rand_vs=np.random.normal(np.zeros(len(sigmav[np.where(galtype=='satellites')])),etavs*sigmav[np.where(galtype=='satellites')])\n",
    "model_instance.mock.galaxy_table['vx'][np.where(galtype=='satellites')]+=rand_vs*xyz_vs[0]\n",
    "model_instance.mock.galaxy_table['vy'][np.where(galtype=='satellites')]+=rand_vs*xyz_vs[1]\n",
    "model_instance.mock.galaxy_table['vz'][np.where(galtype=='satellites')]+=rand_vs*xyz_vs[2]"
   ]
  },
  {
   "cell_type": "code",
   "execution_count": 31,
   "id": "95ef22b9-7821-4c15-a936-bbaa31138226",
   "metadata": {
    "execution": {
     "iopub.execute_input": "2025-02-20T03:04:05.402051Z",
     "iopub.status.busy": "2025-02-20T03:04:05.401749Z",
     "iopub.status.idle": "2025-02-20T03:04:05.412332Z",
     "shell.execute_reply": "2025-02-20T03:04:05.411388Z",
     "shell.execute_reply.started": "2025-02-20T03:04:05.402027Z"
    }
   },
   "outputs": [
    {
     "data": {
      "text/html": [
       "<div><i>Table length=293917</i>\n",
       "<table id=\"table47550062124688\" class=\"table-striped table-bordered table-condensed\">\n",
       "<thead><tr><th>halo_delta</th><th>halo_x</th><th>halo_vy</th><th>halo_m200m</th><th>halo_mvir</th><th>halo_y</th><th>halo_z</th><th>halo_r200m</th><th>halo_vx</th><th>halo_upid</th><th>conc_NFWmodel</th><th>halo_hostid</th><th>halo_id</th><th>halo_rvir</th><th>halo_vz</th><th>halo_num_centrals</th><th>halo_num_satellites</th><th>conc_gal_bias</th><th>gal_type</th><th>host_centric_distance</th><th>vy</th><th>x</th><th>conc_galaxy</th><th>vz</th><th>z</th><th>y</th><th>vx</th><th>sigmav</th></tr></thead>\n",
       "<thead><tr><th>float32</th><th>float32</th><th>float32</th><th>float32</th><th>float32</th><th>float32</th><th>float32</th><th>float32</th><th>float32</th><th>int64</th><th>float32</th><th>int64</th><th>int64</th><th>float32</th><th>float32</th><th>int32</th><th>int32</th><th>float64</th><th>object</th><th>float64</th><th>float32</th><th>float32</th><th>float64</th><th>float32</th><th>float32</th><th>float32</th><th>float32</th><th>float64</th></tr></thead>\n",
       "<tr><td>5.349044</td><td>111.97436</td><td>-960.73346</td><td>42272000000000.0</td><td>42272000000000.0</td><td>20.32288</td><td>34.225445</td><td>0.79697305</td><td>-604.12396</td><td>-1</td><td>6.622914</td><td>52</td><td>52</td><td>0.79697305</td><td>319.47513</td><td>1</td><td>0</td><td>0.0</td><td>centrals</td><td>0.0</td><td>-1137.942</td><td>111.97436</td><td>0.0</td><td>82.43132</td><td>34.225445</td><td>20.32288</td><td>-508.68518</td><td>418.51750552821306</td></tr>\n",
       "<tr><td>4.8268785</td><td>111.739845</td><td>-768.45337</td><td>46949000000000.0</td><td>46949000000000.0</td><td>16.812105</td><td>37.725998</td><td>0.82534003</td><td>-728.2059</td><td>-1</td><td>6.564723</td><td>64</td><td>64</td><td>0.82534003</td><td>-593.47766</td><td>1</td><td>0</td><td>0.0</td><td>centrals</td><td>0.0</td><td>-690.23376</td><td>111.739845</td><td>0.0</td><td>-597.0755</td><td>37.725998</td><td>16.812105</td><td>-432.0392</td><td>433.416807004198</td></tr>\n",
       "<tr><td>4.726289</td><td>107.38376</td><td>-455.51416</td><td>68734000000000.0</td><td>68734000000000.0</td><td>15.564974</td><td>27.356504</td><td>0.93716496</td><td>-124.909836</td><td>-1</td><td>6.357612</td><td>80</td><td>80</td><td>0.93716496</td><td>1309.3868</td><td>1</td><td>0</td><td>0.0</td><td>centrals</td><td>0.0</td><td>-435.15225</td><td>107.38376</td><td>0.0</td><td>1276.6011</td><td>27.356504</td><td>15.564974</td><td>-106.56505</td><td>492.1378850773755</td></tr>\n",
       "<tr><td>3.7550442</td><td>56.58715</td><td>-1053.3295</td><td>38487000000000.0</td><td>38487000000000.0</td><td>121.92078</td><td>62.359917</td><td>0.772435</td><td>390.8134</td><td>-1</td><td>6.675369</td><td>107</td><td>107</td><td>0.772435</td><td>307.2623</td><td>1</td><td>0</td><td>0.0</td><td>centrals</td><td>0.0</td><td>-1157.9402</td><td>56.58715</td><td>0.0</td><td>452.44595</td><td>62.359917</td><td>121.92078</td><td>515.71674</td><td>405.6346724615922</td></tr>\n",
       "<tr><td>3.6620426</td><td>57.225025</td><td>-480.66104</td><td>17406000000000.0</td><td>17406000000000.0</td><td>120.95888</td><td>64.06986</td><td>0.592916</td><td>245.06339</td><td>-1</td><td>7.136042</td><td>117</td><td>117</td><td>0.592916</td><td>769.72015</td><td>1</td><td>0</td><td>0.0</td><td>centrals</td><td>0.0</td><td>-405.89465</td><td>57.225025</td><td>0.0</td><td>755.9589</td><td>64.06986</td><td>120.95888</td><td>133.23767</td><td>311.35935878302706</td></tr>\n",
       "<tr><td>3.150774</td><td>57.700356</td><td>-195.66945</td><td>97535000000000.0</td><td>97535000000000.0</td><td>120.404854</td><td>66.58026</td><td>1.05312</td><td>-131.91306</td><td>-1</td><td>6.1732197</td><td>129</td><td>129</td><td>1.05312</td><td>-529.78235</td><td>1</td><td>0</td><td>0.0</td><td>centrals</td><td>0.0</td><td>244.97173</td><td>57.700356</td><td>0.0</td><td>-487.85364</td><td>66.58026</td><td>120.404854</td><td>-127.034515</td><td>553.0321130015317</td></tr>\n",
       "<tr><td>3.5591192</td><td>33.773384</td><td>-152.22784</td><td>134310000000000.0</td><td>134310000000000.0</td><td>128.50078</td><td>7.371764</td><td>1.171652</td><td>488.1022</td><td>-1</td><td>6.009333</td><td>147</td><td>147</td><td>1.171652</td><td>421.77286</td><td>1</td><td>0</td><td>0.0</td><td>centrals</td><td>0.0</td><td>-167.7669</td><td>33.773384</td><td>0.0</td><td>413.22452</td><td>7.371764</td><td>128.50078</td><td>505.69397</td><td>615.2673847282695</td></tr>\n",
       "<tr><td>3.3689322</td><td>32.997902</td><td>120.07776</td><td>36742000000000.0</td><td>36742000000000.0</td><td>79.47464</td><td>58.796967</td><td>0.760585</td><td>528.2428</td><td>-1</td><td>6.701469</td><td>168</td><td>168</td><td>0.760585</td><td>876.67474</td><td>1</td><td>0</td><td>0.0</td><td>centrals</td><td>0.0</td><td>103.2583</td><td>32.997902</td><td>0.0</td><td>907.6011</td><td>58.796967</td><td>79.47464</td><td>530.9476</td><td>399.4077851920165</td></tr>\n",
       "<tr><td>3.679076</td><td>97.94979</td><td>-317.7347</td><td>204830000000000.0</td><td>204830000000000.0</td><td>7.797075</td><td>30.000263</td><td>1.348619</td><td>229.58537</td><td>-1</td><td>5.799785</td><td>213</td><td>213</td><td>1.348619</td><td>-23.798225</td><td>1</td><td>3</td><td>0.0</td><td>centrals</td><td>0.0</td><td>-188.76408</td><td>97.94979</td><td>0.0</td><td>82.3753</td><td>30.000263</td><td>7.797075</td><td>225.21796</td><td>708.2085676241305</td></tr>\n",
       "<tr><td>3.6937845</td><td>97.70426</td><td>61.104527</td><td>41753000000000.0</td><td>41753000000000.0</td><td>6.914453</td><td>32.007244</td><td>0.79369396</td><td>392.39197</td><td>-1</td><td>6.6297984</td><td>219</td><td>219</td><td>0.79369396</td><td>-320.50534</td><td>1</td><td>1</td><td>0.0</td><td>centrals</td><td>0.0</td><td>70.27917</td><td>97.70426</td><td>0.0</td><td>-397.36032</td><td>32.007244</td><td>6.914453</td><td>425.0631</td><td>416.798645701586</td></tr>\n",
       "<tr><td>...</td><td>...</td><td>...</td><td>...</td><td>...</td><td>...</td><td>...</td><td>...</td><td>...</td><td>...</td><td>...</td><td>...</td><td>...</td><td>...</td><td>...</td><td>...</td><td>...</td><td>...</td><td>...</td><td>...</td><td>...</td><td>...</td><td>...</td><td>...</td><td>...</td><td>...</td><td>...</td><td>...</td></tr>\n",
       "<tr><td>2.7989464</td><td>956.1906</td><td>68.366486</td><td>27761000000000.0</td><td>27761000000000.0</td><td>1006.6771</td><td>1027.8085</td><td>0.692739</td><td>491.6302</td><td>-1</td><td>6.861314</td><td>10367265</td><td>10367265</td><td>0.692739</td><td>-98.233765</td><td>1</td><td>1</td><td>1.0</td><td>satellites</td><td>0.04659692301774271</td><td>265.11798</td><td>956.17786</td><td>6.861313819885254</td><td>387.14847</td><td>1027.8066</td><td>1006.7219</td><td>321.4357</td><td>363.7824706137047</td></tr>\n",
       "<tr><td>1.3806802</td><td>995.1935</td><td>194.5526</td><td>31621000000000.0</td><td>31621000000000.0</td><td>1006.0076</td><td>969.44385</td><td>0.723462</td><td>-284.23352</td><td>-1</td><td>6.7865987</td><td>10367333</td><td>10367333</td><td>0.723462</td><td>-95.33331</td><td>1</td><td>1</td><td>1.0</td><td>satellites</td><td>0.2634656319780023</td><td>-72.26792</td><td>995.0615</td><td>6.7865986824035645</td><td>-228.03879</td><td>969.2539</td><td>1005.8814</td><td>-496.15012</td><td>379.91721284678385</td></tr>\n",
       "<tr><td>1.8973613</td><td>1013.819</td><td>-276.55508</td><td>30804000000000.0</td><td>30804000000000.0</td><td>1026.7227</td><td>1034.0398</td><td>0.717181</td><td>111.069756</td><td>-1</td><td>6.8015566</td><td>10367340</td><td>10367340</td><td>0.717181</td><td>219.70012</td><td>0</td><td>1</td><td>1.0</td><td>satellites</td><td>0.7026626679113624</td><td>-353.9077</td><td>1013.6548</td><td>6.801556587219238</td><td>346.91083</td><td>1034.7087</td><td>1026.8616</td><td>142.58737</td><td>376.6154971157484</td></tr>\n",
       "<tr><td>1.9739488</td><td>935.2548</td><td>168.24786</td><td>4565000000000.0</td><td>4565000000000.0</td><td>1031.4442</td><td>996.27155</td><td>0.379523</td><td>558.6349</td><td>-1</td><td>7.986219</td><td>10367458</td><td>10367458</td><td>0.379523</td><td>432.4645</td><td>0</td><td>1</td><td>1.0</td><td>satellites</td><td>0.13016328883152767</td><td>194.86359</td><td>935.3484</td><td>7.9862189292907715</td><td>490.24698</td><td>996.29315</td><td>1031.3563</td><td>182.55573</td><td>199.30139893720732</td></tr>\n",
       "<tr><td>1.208341</td><td>949.7559</td><td>112.12788</td><td>19262000000000.0</td><td>19262000000000.0</td><td>987.8354</td><td>967.45715</td><td>0.613279</td><td>323.37958</td><td>-1</td><td>7.075495</td><td>10367841</td><td>10367841</td><td>0.613279</td><td>38.897743</td><td>0</td><td>1</td><td>1.0</td><td>satellites</td><td>0.4730877248738858</td><td>-237.77664</td><td>949.7997</td><td>7.075494766235352</td><td>-206.24564</td><td>967.8173</td><td>987.53174</td><td>219.28973</td><td>322.05548263327154</td></tr>\n",
       "<tr><td>3.8602185</td><td>963.4557</td><td>499.29868</td><td>16887000000000.0</td><td>16887000000000.0</td><td>983.16986</td><td>989.28156</td><td>0.586957</td><td>1049.9586</td><td>-1</td><td>7.154232</td><td>10367889</td><td>10367889</td><td>0.586957</td><td>-136.18317</td><td>1</td><td>1</td><td>1.0</td><td>satellites</td><td>0.12696767253533017</td><td>534.5071</td><td>963.3707</td><td>7.154232025146484</td><td>-308.76526</td><td>989.2634</td><td>983.26245</td><td>1061.5432</td><td>308.2351456068871</td></tr>\n",
       "<tr><td>1.8167613</td><td>999.7784</td><td>-221.1694</td><td>15291000000000.0</td><td>15291000000000.0</td><td>998.39636</td><td>1035.7528</td><td>0.56785196</td><td>164.54494</td><td>-1</td><td>7.2142158</td><td>10367972</td><td>10367972</td><td>0.56785196</td><td>451.54788</td><td>0</td><td>1</td><td>1.0</td><td>satellites</td><td>0.149191371714246</td><td>-234.92693</td><td>999.9125</td><td>7.2142157554626465</td><td>229.42108</td><td>1035.7953</td><td>998.446</td><td>191.15373</td><td>298.2012357260332</td></tr>\n",
       "<tr><td>1.0818298</td><td>996.486</td><td>55.189953</td><td>8907300000000.0</td><td>8907300000000.0</td><td>918.70764</td><td>1045.8744</td><td>0.474249</td><td>466.8797</td><td>-1</td><td>7.5496454</td><td>10367994</td><td>10367994</td><td>0.474249</td><td>375.3026</td><td>0</td><td>1</td><td>1.0</td><td>satellites</td><td>0.03307161943040851</td><td>75.71791</td><td>996.49365</td><td>7.54964542388916</td><td>305.91434</td><td>1045.8556</td><td>918.6815</td><td>482.70697</td><td>249.04560274159724</td></tr>\n",
       "<tr><td>1.775484</td><td>937.12164</td><td>322.19635</td><td>9872200000000.0</td><td>9872200000000.0</td><td>1007.016</td><td>1019.87305</td><td>0.490791</td><td>741.02295</td><td>-1</td><td>7.484624</td><td>10368459</td><td>10368459</td><td>0.490791</td><td>-480.41257</td><td>1</td><td>1</td><td>1.0</td><td>satellites</td><td>0.2663544059771494</td><td>183.24225</td><td>937.2842</td><td>7.484623908996582</td><td>-1237.994</td><td>1019.69293</td><td>1006.906</td><td>374.3941</td><td>257.7316583670526</td></tr>\n",
       "<tr><td>1.496647</td><td>1024.9099</td><td>-102.44359</td><td>9686600000000.0</td><td>9686600000000.0</td><td>988.02496</td><td>1012.0029</td><td>0.48769602</td><td>478.4743</td><td>-1</td><td>7.49658</td><td>10368790</td><td>10368790</td><td>0.48769602</td><td>369.2885</td><td>0</td><td>1</td><td>1.0</td><td>satellites</td><td>0.115464422978799</td><td>-109.295494</td><td>1024.8221</td><td>7.496580123901367</td><td>366.8396</td><td>1011.9291</td><td>988.01196</td><td>438.2906</td><td>256.1061961057138</td></tr>\n",
       "</table></div>"
      ],
      "text/plain": [
       "<Table length=293917>\n",
       "halo_delta   halo_x    halo_vy   ...     y           vx           sigmav      \n",
       " float32    float32    float32   ...  float32     float32        float64      \n",
       "---------- ---------- ---------- ... ---------- ----------- ------------------\n",
       "  5.349044  111.97436 -960.73346 ...   20.32288  -508.68518 418.51750552821306\n",
       " 4.8268785 111.739845 -768.45337 ...  16.812105   -432.0392   433.416807004198\n",
       "  4.726289  107.38376 -455.51416 ...  15.564974  -106.56505  492.1378850773755\n",
       " 3.7550442   56.58715 -1053.3295 ...  121.92078   515.71674  405.6346724615922\n",
       " 3.6620426  57.225025 -480.66104 ...  120.95888   133.23767 311.35935878302706\n",
       "  3.150774  57.700356 -195.66945 ... 120.404854 -127.034515  553.0321130015317\n",
       " 3.5591192  33.773384 -152.22784 ...  128.50078   505.69397  615.2673847282695\n",
       " 3.3689322  32.997902  120.07776 ...   79.47464    530.9476  399.4077851920165\n",
       "  3.679076   97.94979  -317.7347 ...   7.797075   225.21796  708.2085676241305\n",
       " 3.6937845   97.70426  61.104527 ...   6.914453    425.0631   416.798645701586\n",
       "       ...        ...        ... ...        ...         ...                ...\n",
       " 2.7989464   956.1906  68.366486 ...  1006.7219    321.4357  363.7824706137047\n",
       " 1.3806802   995.1935   194.5526 ...  1005.8814  -496.15012 379.91721284678385\n",
       " 1.8973613   1013.819 -276.55508 ...  1026.8616   142.58737  376.6154971157484\n",
       " 1.9739488   935.2548  168.24786 ...  1031.3563   182.55573 199.30139893720732\n",
       "  1.208341   949.7559  112.12788 ...  987.53174   219.28973 322.05548263327154\n",
       " 3.8602185   963.4557  499.29868 ...  983.26245   1061.5432  308.2351456068871\n",
       " 1.8167613   999.7784  -221.1694 ...    998.446   191.15373  298.2012357260332\n",
       " 1.0818298    996.486  55.189953 ...   918.6815   482.70697 249.04560274159724\n",
       "  1.775484  937.12164  322.19635 ...   1006.906    374.3941  257.7316583670526\n",
       "  1.496647  1024.9099 -102.44359 ...  988.01196    438.2906  256.1061961057138"
      ]
     },
     "execution_count": 31,
     "metadata": {},
     "output_type": "execute_result"
    }
   ],
   "source": [
    "model_instance.mock.galaxy_table"
   ]
  },
  {
   "cell_type": "code",
   "execution_count": null,
   "id": "5fe87471-00c8-4b90-9ed3-b7e31a3b8287",
   "metadata": {},
   "outputs": [],
   "source": []
  }
 ],
 "metadata": {
  "kernelspec": {
   "display_name": "Python3.7 (sys)",
   "language": "python",
   "name": "python3.7"
  },
  "language_info": {
   "codemirror_mode": {
    "name": "ipython",
    "version": 3
   },
   "file_extension": ".py",
   "mimetype": "text/x-python",
   "name": "python",
   "nbconvert_exporter": "python",
   "pygments_lexer": "ipython3",
   "version": "3.7.10"
  }
 },
 "nbformat": 4,
 "nbformat_minor": 5
}
