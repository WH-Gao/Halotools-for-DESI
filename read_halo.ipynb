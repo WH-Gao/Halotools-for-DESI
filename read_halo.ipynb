{
 "cells": [
  {
   "cell_type": "code",
   "execution_count": 1,
   "id": "062c23ed-2401-45ab-8b75-e4e185235097",
   "metadata": {
    "execution": {
     "iopub.execute_input": "2025-02-20T02:48:48.698618Z",
     "iopub.status.busy": "2025-02-20T02:48:48.698243Z",
     "iopub.status.idle": "2025-02-20T02:48:50.091229Z",
     "shell.execute_reply": "2025-02-20T02:48:50.089503Z",
     "shell.execute_reply.started": "2025-02-20T02:48:48.698570Z"
    },
    "tags": []
   },
   "outputs": [],
   "source": [
    "import numpy as np\n",
    "from halotools.sim_manager import RockstarHlistReader"
   ]
  },
  {
   "cell_type": "markdown",
   "id": "214137f4-80ec-449d-b517-be94f14eb35b",
   "metadata": {},
   "source": [
    "## For Aemulus_nu"
   ]
  },
  {
   "cell_type": "code",
   "execution_count": null,
   "id": "1c1fc4c7-ecf6-40e3-a9b9-88b23add996b",
   "metadata": {},
   "outputs": [],
   "source": [
    "columns_to_keep_dict = {'halo_id': (0, 'i8'), 'halo_m200m': (2, 'f4'), 'halo_vmax': (3, 'f4') ,'halo_x': (8, 'f4'), 'halo_y': (9, 'f4'), 'halo_z': (10, 'f4'), 'halo_r200m': (5, 'f4'), 'halo_vx': (11, 'f4'), 'halo_vy': (12, 'f4'), 'halo_vz': (13, 'f4'), 'halo_vrms':(4, 'f4'), 'halo_rs': (6, 'f4'),'halo_delta': (-3, 'f4'),'halo_upid': (-4, 'i8'),'halo_mvir': (-2, 'f4'),'halo_rvir': (-1, 'f4'),}# For halotools, if there is no 'halo_mvir' and 'halo_rvir' being read, there may be some error. Here I just duplicate 'halo_m200m' and 'halo_r200m' as 'halo_mvir' and 'halo_rvir'.\n",
    "halo_finder = 'rockstar'\n",
    "version_name = 'rockstar_v1.53_vir'\n",
    "redshift = 0.5375\n",
    "Lbox = 1050.\n",
    "a=np.loadtxt(\"tier2_cosmos.txt\")# Cosmological parameters.\n",
    "\n",
    "for i in range(0,50):\n",
    "    if i != 38:\n",
    "        h=a[i][2]/100\n",
    "        Oc=a[i][4]/h**2\n",
    "        Ob=a[i][5]/h**2\n",
    "        particle_mass = (Oc+Ob)/0.3*3.51236*10**10 # Particle mass.\n",
    "        path=\"/home/wenhao/Halotools/halo/out_10/C_\"+str(i)+\"_halo_vir.list\"# Path of halo file.\n",
    "        HDF5=\"/home/wenhao/Halotools/HDF5/out_10/Aemulus_nu_\"+str(i)+\".hdf5\"# Path to save HDF5 file.\n",
    "        simname = 'Aemulus_nu_'+str(i)# Name of simulation.\n",
    "        reader = RockstarHlistReader(path, columns_to_keep_dict, HDF5, simname, halo_finder, redshift, version_name, Lbox, particle_mass,row_cut_eq_dict = {'halo_upid': -1},overwrite=True)# Set row_cut_eq_dict = {'halo_upid': -1} to consider host halo only.\n",
    "        reader.read_halocat(columns_to_convert_from_kpc_to_mpc=('halo_r200m','halo_rs','halo_rvir'), write_to_disk = True, update_cache_log = True,add_supplementary_halocat_columns=False)# Set add_supplementary_halocat_columns=True can calculate concentration automatically. 'halo_rs' in Aemulus_nu halo files is 0.0, hence we need calculate concentration by ourselves."
   ]
  },
  {
   "cell_type": "markdown",
   "id": "d2577fe4-9767-46d5-ad0f-93b7f6c9289e",
   "metadata": {},
   "source": [
    "## For UNIT"
   ]
  },
  {
   "cell_type": "code",
   "execution_count": null,
   "id": "6dc45bb4-ed78-46e1-b12a-56fdb0c46965",
   "metadata": {},
   "outputs": [],
   "source": [
    "columns_to_keep_dict = {'halo_id': (0, 'i8'), 'halo_mvir': (2, 'f4'), 'halo_vmax': (3, 'f4') ,'halo_x': (8, 'f4'), 'halo_y': (9, 'f4'), 'halo_z': (10, 'f4'), 'halo_rvir': (5, 'f4'), 'halo_vx': (11, 'f4'), 'halo_vy': (12, 'f4'), 'halo_vz': (13, 'f4'), 'halo_vrms':(4, 'f4'), 'halo_rs': (6, 'f4'),'halo_delta': (-3, 'f4'),'halo_b_to_a': (-2, 'f4'),'halo_c_to_a': (-1, 'f4'),'halo_upid': (-4, 'i8')}\n",
    "halo_finder = 'rockstar'\n",
    "version_name = 'rockstar_v1.53'\n",
    "redshift = 0.4899\n",
    "Lbox = 1000.\n",
    "\n",
    "particle_mass = 1.2*10**9\n",
    "for j in range(2):\n",
    "    if j == 0:\n",
    "        fn = \"1\"\n",
    "    elif j == 1:\n",
    "        fn = 'inv_1'\n",
    "    path=\"/home/wenhao/110/\"+fn+\"_halo_shape.list\"\n",
    "    HDF5=\"/home/wenhao/110/\"+fn+\"_shape.hdf5\"\n",
    "    simname = 'UNIT_110_'+fn+'_shape'\n",
    "    reader = RockstarHlistReader(path, columns_to_keep_dict, HDF5, simname, halo_finder, redshift, version_name, Lbox, particle_mass,row_cut_eq_dict = {'halo_upid': -1},row_cut_min_dict = {'halo_mvir': 0.8*10**11},overwrite=True)# Set row_cut_min_dict = {'halo_mvir': 0.8*10**11} to consider halo larger than 0.8*10**11.\n",
    "    reader.read_halocat(columns_to_convert_from_kpc_to_mpc=('halo_rs','halo_rvir'), write_to_disk = True, update_cache_log = True,add_supplementary_halocat_columns=True)"
   ]
  },
  {
   "cell_type": "code",
   "execution_count": null,
   "id": "724c9e1c-3ab7-4a41-b4e8-2df7fce7287f",
   "metadata": {},
   "outputs": [],
   "source": []
  }
 ],
 "metadata": {
  "kernelspec": {
   "display_name": "Python3.7 (sys)",
   "language": "python",
   "name": "python3.7"
  },
  "language_info": {
   "codemirror_mode": {
    "name": "ipython",
    "version": 3
   },
   "file_extension": ".py",
   "mimetype": "text/x-python",
   "name": "python",
   "nbconvert_exporter": "python",
   "pygments_lexer": "ipython3",
   "version": "3.7.10"
  }
 },
 "nbformat": 4,
 "nbformat_minor": 5
}
